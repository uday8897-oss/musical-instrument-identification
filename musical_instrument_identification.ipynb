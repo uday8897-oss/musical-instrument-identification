{
  "nbformat": 4,
  "nbformat_minor": 0,
  "metadata": {
    "colab": {
      "provenance": [],
      "mount_file_id": "1omkHC4fWqOnAw9sVxo52JEtfNplYSa9L",
      "authorship_tag": "ABX9TyPaOTvE+6OLcrGFVXfJjBzK",
      "include_colab_link": true
    },
    "kernelspec": {
      "name": "python3",
      "display_name": "Python 3"
    },
    "language_info": {
      "name": "python"
    }
  },
  "cells": [
    {
      "cell_type": "markdown",
      "metadata": {
        "id": "view-in-github",
        "colab_type": "text"
      },
      "source": [
        "<a href=\"https://colab.research.google.com/github/uday8897-oss/musical-instrument-identification/blob/main/musical_instrument_identification.ipynb\" target=\"_parent\"><img src=\"https://colab.research.google.com/assets/colab-badge.svg\" alt=\"Open In Colab\"/></a>"
      ]
    },
    {
      "cell_type": "code",
      "source": [
        "pip install numpy librosa scikit-learn tqdm matplotlib"
      ],
      "metadata": {
        "colab": {
          "base_uri": "https://localhost:8080/"
        },
        "id": "4voq96yWLGQI",
        "outputId": "9a8ee1f9-d040-4ac1-a984-a22a99a69338"
      },
      "execution_count": 2,
      "outputs": [
        {
          "output_type": "stream",
          "name": "stdout",
          "text": [
            "Requirement already satisfied: numpy in /usr/local/lib/python3.11/dist-packages (2.0.2)\n",
            "Requirement already satisfied: librosa in /usr/local/lib/python3.11/dist-packages (0.10.2.post1)\n",
            "Requirement already satisfied: scikit-learn in /usr/local/lib/python3.11/dist-packages (1.6.1)\n",
            "Requirement already satisfied: tqdm in /usr/local/lib/python3.11/dist-packages (4.67.1)\n",
            "Requirement already satisfied: matplotlib in /usr/local/lib/python3.11/dist-packages (3.10.0)\n",
            "Requirement already satisfied: audioread>=2.1.9 in /usr/local/lib/python3.11/dist-packages (from librosa) (3.0.1)\n",
            "Requirement already satisfied: scipy>=1.2.0 in /usr/local/lib/python3.11/dist-packages (from librosa) (1.14.1)\n",
            "Requirement already satisfied: joblib>=0.14 in /usr/local/lib/python3.11/dist-packages (from librosa) (1.4.2)\n",
            "Requirement already satisfied: decorator>=4.3.0 in /usr/local/lib/python3.11/dist-packages (from librosa) (4.4.2)\n",
            "Requirement already satisfied: numba>=0.51.0 in /usr/local/lib/python3.11/dist-packages (from librosa) (0.60.0)\n",
            "Requirement already satisfied: soundfile>=0.12.1 in /usr/local/lib/python3.11/dist-packages (from librosa) (0.13.1)\n",
            "Requirement already satisfied: pooch>=1.1 in /usr/local/lib/python3.11/dist-packages (from librosa) (1.8.2)\n",
            "Requirement already satisfied: soxr>=0.3.2 in /usr/local/lib/python3.11/dist-packages (from librosa) (0.5.0.post1)\n",
            "Requirement already satisfied: typing-extensions>=4.1.1 in /usr/local/lib/python3.11/dist-packages (from librosa) (4.12.2)\n",
            "Requirement already satisfied: lazy-loader>=0.1 in /usr/local/lib/python3.11/dist-packages (from librosa) (0.4)\n",
            "Requirement already satisfied: msgpack>=1.0 in /usr/local/lib/python3.11/dist-packages (from librosa) (1.1.0)\n",
            "Requirement already satisfied: threadpoolctl>=3.1.0 in /usr/local/lib/python3.11/dist-packages (from scikit-learn) (3.6.0)\n",
            "Requirement already satisfied: contourpy>=1.0.1 in /usr/local/lib/python3.11/dist-packages (from matplotlib) (1.3.1)\n",
            "Requirement already satisfied: cycler>=0.10 in /usr/local/lib/python3.11/dist-packages (from matplotlib) (0.12.1)\n",
            "Requirement already satisfied: fonttools>=4.22.0 in /usr/local/lib/python3.11/dist-packages (from matplotlib) (4.56.0)\n",
            "Requirement already satisfied: kiwisolver>=1.3.1 in /usr/local/lib/python3.11/dist-packages (from matplotlib) (1.4.8)\n",
            "Requirement already satisfied: packaging>=20.0 in /usr/local/lib/python3.11/dist-packages (from matplotlib) (24.2)\n",
            "Requirement already satisfied: pillow>=8 in /usr/local/lib/python3.11/dist-packages (from matplotlib) (11.1.0)\n",
            "Requirement already satisfied: pyparsing>=2.3.1 in /usr/local/lib/python3.11/dist-packages (from matplotlib) (3.2.1)\n",
            "Requirement already satisfied: python-dateutil>=2.7 in /usr/local/lib/python3.11/dist-packages (from matplotlib) (2.8.2)\n",
            "Requirement already satisfied: llvmlite<0.44,>=0.43.0dev0 in /usr/local/lib/python3.11/dist-packages (from numba>=0.51.0->librosa) (0.43.0)\n",
            "Requirement already satisfied: platformdirs>=2.5.0 in /usr/local/lib/python3.11/dist-packages (from pooch>=1.1->librosa) (4.3.6)\n",
            "Requirement already satisfied: requests>=2.19.0 in /usr/local/lib/python3.11/dist-packages (from pooch>=1.1->librosa) (2.32.3)\n",
            "Requirement already satisfied: six>=1.5 in /usr/local/lib/python3.11/dist-packages (from python-dateutil>=2.7->matplotlib) (1.17.0)\n",
            "Requirement already satisfied: cffi>=1.0 in /usr/local/lib/python3.11/dist-packages (from soundfile>=0.12.1->librosa) (1.17.1)\n",
            "Requirement already satisfied: pycparser in /usr/local/lib/python3.11/dist-packages (from cffi>=1.0->soundfile>=0.12.1->librosa) (2.22)\n",
            "Requirement already satisfied: charset-normalizer<4,>=2 in /usr/local/lib/python3.11/dist-packages (from requests>=2.19.0->pooch>=1.1->librosa) (3.4.1)\n",
            "Requirement already satisfied: idna<4,>=2.5 in /usr/local/lib/python3.11/dist-packages (from requests>=2.19.0->pooch>=1.1->librosa) (3.10)\n",
            "Requirement already satisfied: urllib3<3,>=1.21.1 in /usr/local/lib/python3.11/dist-packages (from requests>=2.19.0->pooch>=1.1->librosa) (2.3.0)\n",
            "Requirement already satisfied: certifi>=2017.4.17 in /usr/local/lib/python3.11/dist-packages (from requests>=2.19.0->pooch>=1.1->librosa) (2025.1.31)\n"
          ]
        }
      ]
    },
    {
      "cell_type": "code",
      "source": [
        "import os\n",
        "import numpy as np\n",
        "import matplotlib.pyplot as plt\n",
        "from sklearn.model_selection import train_test_split\n",
        "from sklearn.ensemble import RandomForestClassifier\n",
        "from sklearn.metrics import accuracy_score, classification_report\n",
        "from sklearn.preprocessing import LabelEncoder\n",
        "from tqdm import tqdm\n",
        "import warnings\n",
        "import librosa\n",
        "import librosa.display\n",
        "import tkinter as tk\n",
        "from tkinter import filedialog\n",
        "\n",
        "warnings.filterwarnings(\"ignore\")"
      ],
      "metadata": {
        "id": "1tIWUlzJB24b"
      },
      "execution_count": 3,
      "outputs": []
    },
    {
      "cell_type": "code",
      "source": [
        "\n",
        "import soundfile as sf\n",
        "\n",
        "# Sampling rate and duration\n",
        "sr = 22050  # Standard audio sampling rate\n",
        "duration = 2  # 2 seconds per sample\n",
        "t = np.linspace(0, duration, int(sr * duration), endpoint=False)\n",
        "\n",
        "# Define instrument characteristics (frequency, modulation, harmonics)\n",
        "instrument_params = {\n",
        "    \"piano\": {\"freq\": 261.63, \"harmonics\": [1, 2, 3], \"am_mod\": False},\n",
        "    \"guitar\": {\"freq\": 196.00, \"harmonics\": [1, 2.5, 3.5], \"am_mod\": False},\n",
        "    \"violin\": {\"freq\": 440.00, \"harmonics\": [1, 2, 3, 4], \"am_mod\": True},\n",
        "    \"flute\": {\"freq\": 880.00, \"harmonics\": [1], \"am_mod\": False},\n",
        "    \"saxophone\": {\"freq\": 220.00, \"harmonics\": [1, 2, 3], \"am_mod\": True},\n",
        "    \"trumpet\": {\"freq\": 233.08, \"harmonics\": [1, 2, 3, 4], \"am_mod\": True},\n",
        "    \"cello\": {\"freq\": 130.81, \"harmonics\": [1, 2, 3], \"am_mod\": True},\n",
        "    \"clarinet\": {\"freq\": 147.83, \"harmonics\": [1, 3, 5], \"am_mod\": False},\n",
        "    \"drums\": {\"freq\": None, \"noise\": True, \"am_mod\": False},\n",
        "    \"trombone\": {\"freq\": 174.61, \"harmonics\": [1, 2, 3], \"am_mod\": True},\n",
        "    \"harp\": {\"freq\": 329.63, \"harmonics\": [1, 2], \"am_mod\": False},\n",
        "    \"banjo\": {\"freq\": 220.00, \"harmonics\": [1, 2, 4], \"am_mod\": True},\n",
        "    \"xylophone\": {\"freq\": 523.25, \"harmonics\": [1, 2], \"am_mod\": False},\n",
        "    \"oboe\": {\"freq\": 392.00, \"harmonics\": [1, 2, 3], \"am_mod\": True},\n",
        "    \"bassoon\": {\"freq\": 98.00, \"harmonics\": [1, 2, 3], \"am_mod\": False},\n",
        "    \"accordion\": {\"freq\": 440.00, \"harmonics\": [1, 2], \"am_mod\": True},\n",
        "    \"mandolin\": {\"freq\": 293.66, \"harmonics\": [1, 2, 3], \"am_mod\": False},\n",
        "    \"sitar\": {\"freq\": 246.94, \"harmonics\": [1, 2, 3, 5], \"am_mod\": True},\n",
        "    \"tabla\": {\"freq\": None, \"noise\": True, \"am_mod\": False},\n",
        "    \"harmonica\": {\"freq\": 466.16, \"harmonics\": [1, 2], \"am_mod\": True},\n",
        "}\n",
        "\n",
        "# Dataset directory\n",
        "dataset_dir = \"synthetic_dataset\"\n",
        "os.makedirs(dataset_dir, exist_ok=True)\n",
        "\n",
        "# Generate synthetic audio for each instrument\n",
        "for instrument, params in instrument_params.items():\n",
        "    instrument_dir = os.path.join(dataset_dir, instrument)\n",
        "    os.makedirs(instrument_dir, exist_ok=True)\n",
        "\n",
        "    for i in range(10):  # 10 samples per instrument\n",
        "        if params.get(\"noise\"):\n",
        "            signal = np.random.randn(len(t)) * 0.3  # White noise for percussive instruments\n",
        "        else:\n",
        "            signal = np.zeros_like(t)\n",
        "            for h in params[\"harmonics\"]:\n",
        "                signal += np.sin(2 * np.pi * params[\"freq\"] * h * t)\n",
        "\n",
        "            # Apply amplitude modulation if required\n",
        "            if params[\"am_mod\"]:\n",
        "                signal *= (1 + 0.3 * np.sin(2 * np.pi * 3 * t))\n",
        "\n",
        "            signal /= np.max(np.abs(signal))  # Normalize\n",
        "\n",
        "        # Save audio file\n",
        "        file_path = os.path.join(instrument_dir, f\"{instrument}_{i+1}.wav\")\n",
        "        sf.write(file_path, signal, sr)\n",
        "\n",
        "dataset_dir\n"
      ],
      "metadata": {
        "colab": {
          "base_uri": "https://localhost:8080/",
          "height": 36
        },
        "id": "tccrY76pWZEB",
        "outputId": "30867965-0de9-4940-e0b1-c5fe3b3339f6"
      },
      "execution_count": 4,
      "outputs": [
        {
          "output_type": "execute_result",
          "data": {
            "text/plain": [
              "'synthetic_dataset'"
            ],
            "application/vnd.google.colaboratory.intrinsic+json": {
              "type": "string"
            }
          },
          "metadata": {},
          "execution_count": 4
        }
      ]
    },
    {
      "cell_type": "code",
      "source": [
        "# Define dataset path (Update with your dataset location)\n",
        "DATASET_PATH = \"synthetic_dataset\"  # Change this to your dataset directory\n",
        "\n",
        "# Define a broader set of musical instruments\n",
        "INSTRUMENTS = [\n",
        "    \"piano\", \"guitar\", \"violin\", \"flute\", \"saxophone\", \"trumpet\", \"cello\", \"clarinet\", \"drums\", \"trombone\",\n",
        "    \"harp\", \"banjo\", \"xylophone\", \"oboe\", \"bassoon\", \"accordion\", \"mandolin\", \"sitar\", \"tabla\", \"harmonica\"\n",
        "]"
      ],
      "metadata": {
        "id": "dMwQ9MXuKHBH"
      },
      "execution_count": 5,
      "outputs": []
    },
    {
      "cell_type": "code",
      "source": [
        "# Function to extract audio features\n",
        "def extract_features(file_path):\n",
        "    try:\n",
        "        y, sr = librosa.load(file_path, sr=22050)\n",
        "        if y is None or len(y) == 0:\n",
        "            return None  # Skip empty files\n",
        "        mfccs = librosa.feature.mfcc(y=y, sr=sr, n_mfcc=13)\n",
        "        spectral_centroid = librosa.feature.spectral_centroid(y=y, sr=sr)\n",
        "        zcr = librosa.feature.zero_crossing_rate(y)\n",
        "        return np.hstack([\n",
        "            np.mean(mfccs, axis=1),\n",
        "            np.mean(spectral_centroid),\n",
        "            np.mean(zcr)\n",
        "        ])\n",
        "    except Exception as e:\n",
        "        print(f\"Error processing {file_path}: {e}\")\n",
        "        return None\n"
      ],
      "metadata": {
        "id": "rzlmRzrnK2v-"
      },
      "execution_count": 6,
      "outputs": []
    },
    {
      "cell_type": "code",
      "source": [
        "# Load dataset and extract features\n",
        "data = []\n",
        "labels = []\n",
        "for instrument in INSTRUMENTS:\n",
        "    instrument_path = os.path.join(DATASET_PATH, instrument)\n",
        "    if not os.path.isdir(instrument_path):\n",
        "        print(f\"Warning: {instrument_path} does not exist.\")\n",
        "        continue\n",
        "\n",
        "    for file in tqdm(os.listdir(instrument_path), desc=f\"Processing {instrument}\"):\n",
        "        if file.endswith(\".wav\"):\n",
        "            file_path = os.path.join(instrument_path, file)\n",
        "            features = extract_features(file_path)\n",
        "            if features is not None:\n",
        "                data.append(features)\n",
        "                labels.append(instrument)"
      ],
      "metadata": {
        "colab": {
          "base_uri": "https://localhost:8080/"
        },
        "id": "G3AhEQFfLPjs",
        "outputId": "5e5fa363-38fb-4d68-950f-1831a3e3c3f6"
      },
      "execution_count": 7,
      "outputs": [
        {
          "output_type": "stream",
          "name": "stderr",
          "text": [
            "Processing piano: 100%|██████████| 10/10 [00:23<00:00,  2.37s/it]\n",
            "Processing guitar: 100%|██████████| 10/10 [00:00<00:00, 63.10it/s]\n",
            "Processing violin: 100%|██████████| 10/10 [00:00<00:00, 66.13it/s]\n",
            "Processing flute: 100%|██████████| 10/10 [00:00<00:00, 60.40it/s]\n",
            "Processing saxophone: 100%|██████████| 10/10 [00:00<00:00, 66.62it/s]\n",
            "Processing trumpet: 100%|██████████| 10/10 [00:00<00:00, 66.69it/s]\n",
            "Processing cello: 100%|██████████| 10/10 [00:00<00:00, 68.02it/s]\n",
            "Processing clarinet: 100%|██████████| 10/10 [00:00<00:00, 69.19it/s]\n",
            "Processing drums: 100%|██████████| 10/10 [00:00<00:00, 69.48it/s]\n",
            "Processing trombone: 100%|██████████| 10/10 [00:00<00:00, 70.13it/s]\n",
            "Processing harp: 100%|██████████| 10/10 [00:00<00:00, 59.52it/s]\n",
            "Processing banjo: 100%|██████████| 10/10 [00:00<00:00, 71.11it/s]\n",
            "Processing xylophone: 100%|██████████| 10/10 [00:00<00:00, 59.92it/s]\n",
            "Processing oboe: 100%|██████████| 10/10 [00:00<00:00, 67.58it/s]\n",
            "Processing bassoon: 100%|██████████| 10/10 [00:00<00:00, 71.09it/s]\n",
            "Processing accordion: 100%|██████████| 10/10 [00:00<00:00, 71.66it/s]\n",
            "Processing mandolin: 100%|██████████| 10/10 [00:00<00:00, 55.38it/s]\n",
            "Processing sitar: 100%|██████████| 10/10 [00:00<00:00, 48.55it/s]\n",
            "Processing tabla: 100%|██████████| 10/10 [00:00<00:00, 29.59it/s]\n",
            "Processing harmonica: 100%|██████████| 10/10 [00:00<00:00, 40.24it/s]\n"
          ]
        }
      ]
    },
    {
      "cell_type": "code",
      "source": [
        "# Check if data is loaded\n",
        "if len(data) == 0:\n",
        "    raise ValueError(\"No audio data found. Check your dataset path and ensure WAV files exist.\")\n",
        "\n",
        "# Convert lists to NumPy arrays\n",
        "data = np.array(data)\n",
        "labels = np.array(labels)\n",
        "\n",
        "# Encode labels\n",
        "encoder = LabelEncoder()\n",
        "labels_encoded = encoder.fit_transform(labels)\n",
        "\n",
        "# Split dataset safely\n",
        "if len(data) < 2:\n",
        "    raise ValueError(\"Not enough data samples to split. Ensure your dataset contains multiple audio files.\")\n",
        "X_train, X_test, y_train, y_test = train_test_split(data, labels_encoded, test_size=0.2, random_state=42)\n",
        "\n",
        "# Train classifier\n",
        "clf = RandomForestClassifier(n_estimators=100, random_state=42)\n",
        "clf.fit(X_train, y_train)\n",
        "\n",
        "# Evaluate model\n",
        "y_pred = clf.predict(X_test)\n",
        "accuracy = accuracy_score(y_test, y_pred)\n",
        "print(f\"Accuracy: {accuracy:.2f}\")\n",
        "\n",
        "# Get the unique labels present in the test data\n",
        "unique_labels = np.unique(np.concatenate([y_test, y_pred]))\n",
        "\n",
        "# Filter encoder.classes_ to include only the unique labels\n",
        "target_names = [encoder.classes_[i] for i in unique_labels]\n",
        "\n",
        "print(classification_report(y_test, y_pred, target_names=target_names))\n",
        "\n",
        "# Function to classify an uploaded audio file\n",
        "def classify_audio(  audio_file_path  ):\n",
        "    # root = tk.Tk()\n",
        "    # root.withdraw()\n",
        "    # file_path = filedialog.askopenfilename(filetypes=[(\"Audio Files\", \"*.wav\")])\n",
        "    #if not file_path:\n",
        "    #    print(\"No file selected.\")\n",
        "     #   return\n",
        "\n",
        "    features = extract_features( audio_file_path)\n",
        "    if features is None:\n",
        "        print(\"Error extracting features from file.\")\n",
        "        return\n",
        "\n",
        "    features = np.array(features).reshape(1, -1)\n",
        "    prediction = clf.predict(features)\n",
        "    predicted_instrument = encoder.inverse_transform(prediction)[0]\n",
        "    print(f\"Predicted Instrument: {predicted_instrument}\")\n",
        "\n"
      ],
      "metadata": {
        "colab": {
          "base_uri": "https://localhost:8080/"
        },
        "id": "25ybYAmNRoUf",
        "outputId": "4eab623e-a49c-4353-bdf1-dc9e39326571"
      },
      "execution_count": 8,
      "outputs": [
        {
          "output_type": "stream",
          "name": "stdout",
          "text": [
            "Accuracy: 0.95\n",
            "              precision    recall  f1-score   support\n",
            "\n",
            "   accordion       1.00      1.00      1.00         3\n",
            "       banjo       1.00      1.00      1.00         1\n",
            "     bassoon       1.00      1.00      1.00         1\n",
            "       cello       1.00      1.00      1.00         6\n",
            "    clarinet       1.00      1.00      1.00         3\n",
            "       drums       0.50      1.00      0.67         2\n",
            "       flute       1.00      1.00      1.00         1\n",
            "      guitar       1.00      1.00      1.00         3\n",
            "        harp       1.00      1.00      1.00         1\n",
            "    mandolin       1.00      1.00      1.00         2\n",
            "        oboe       1.00      1.00      1.00         3\n",
            "       piano       1.00      1.00      1.00         1\n",
            "   saxophone       1.00      1.00      1.00         1\n",
            "       sitar       1.00      1.00      1.00         3\n",
            "       tabla       0.00      0.00      0.00         2\n",
            "    trombone       1.00      1.00      1.00         2\n",
            "     trumpet       1.00      1.00      1.00         2\n",
            "   xylophone       1.00      1.00      1.00         3\n",
            "\n",
            "    accuracy                           0.95        40\n",
            "   macro avg       0.92      0.94      0.93        40\n",
            "weighted avg       0.93      0.95      0.93        40\n",
            "\n"
          ]
        }
      ]
    },
    {
      "cell_type": "code",
      "source": [
        "!pip install gradio librosa numpy joblib\n",
        "import os\n",
        "import gradio as gr\n",
        "import librosa\n",
        "import numpy as np\n",
        "import joblib\n",
        "\n",
        "# Define the model file path\n",
        "model_file_path = os.path.join(\"synthetic_dataset\", \"trained_model.joblib\")\n",
        "\n",
        "# ... (After training the model) ...\n",
        "\n",
        "# Save the model\n",
        "joblib.dump((clf, encoder), model_file_path)\n",
        "\n",
        "# ... (Later, when you want to load the model) ...\n",
        "\n",
        "# Load the model\n",
        "clf, encoder = joblib.load(model_file_path)\n",
        "\n",
        "# Function to extract features\n",
        "def predict_instrument(audio_file):\n",
        "    y, sr = librosa.load(audio_file, sr=22050)\n",
        "    mfccs = librosa.feature.mfcc(y=y, sr=sr, n_mfcc=13)\n",
        "    spectral_centroid = librosa.feature.spectral_centroid(y=y, sr=sr)\n",
        "    zcr = librosa.feature.zero_crossing_rate(y)\n",
        "    features = np.hstack([np.mean(mfccs, axis=1), np.mean(spectral_centroid), np.mean(zcr)]).reshape(1, -1)\n",
        "\n",
        "    prediction = clf.predict(features)\n",
        "    return encoder.inverse_transform(prediction)[0]\n",
        "\n",
        "# Gradio Interface\n",
        "iface = gr.Interface(\n",
        "    fn=predict_instrument,\n",
        "    inputs=gr.Audio( type=\"filepath\"),\n",
        "    outputs=\"text\",\n",
        "    title=\"🎵 Music Instrument Identifier\",\n",
        "    description=\"Upload a audio file to identify the instruments in it.\"\n",
        ")\n",
        "\n",
        "iface.launch(share=True)\n"
      ],
      "metadata": {
        "colab": {
          "base_uri": "https://localhost:8080/",
          "height": 1000
        },
        "id": "nsUkdgr9bCRq",
        "outputId": "71925a44-4caa-4cb5-e2ee-3d5293161e5a"
      },
      "execution_count": 9,
      "outputs": [
        {
          "output_type": "stream",
          "name": "stdout",
          "text": [
            "Requirement already satisfied: gradio in /usr/local/lib/python3.11/dist-packages (5.22.0)\n",
            "Requirement already satisfied: librosa in /usr/local/lib/python3.11/dist-packages (0.10.2.post1)\n",
            "Requirement already satisfied: numpy in /usr/local/lib/python3.11/dist-packages (2.0.2)\n",
            "Requirement already satisfied: joblib in /usr/local/lib/python3.11/dist-packages (1.4.2)\n",
            "Requirement already satisfied: aiofiles<24.0,>=22.0 in /usr/local/lib/python3.11/dist-packages (from gradio) (23.2.1)\n",
            "Requirement already satisfied: anyio<5.0,>=3.0 in /usr/local/lib/python3.11/dist-packages (from gradio) (3.7.1)\n",
            "Requirement already satisfied: fastapi<1.0,>=0.115.2 in /usr/local/lib/python3.11/dist-packages (from gradio) (0.115.11)\n",
            "Requirement already satisfied: ffmpy in /usr/local/lib/python3.11/dist-packages (from gradio) (0.5.0)\n",
            "Requirement already satisfied: gradio-client==1.8.0 in /usr/local/lib/python3.11/dist-packages (from gradio) (1.8.0)\n",
            "Requirement already satisfied: groovy~=0.1 in /usr/local/lib/python3.11/dist-packages (from gradio) (0.1.2)\n",
            "Requirement already satisfied: httpx>=0.24.1 in /usr/local/lib/python3.11/dist-packages (from gradio) (0.28.1)\n",
            "Requirement already satisfied: huggingface-hub>=0.28.1 in /usr/local/lib/python3.11/dist-packages (from gradio) (0.28.1)\n",
            "Requirement already satisfied: jinja2<4.0 in /usr/local/lib/python3.11/dist-packages (from gradio) (3.1.6)\n",
            "Requirement already satisfied: markupsafe<4.0,>=2.0 in /usr/local/lib/python3.11/dist-packages (from gradio) (3.0.2)\n",
            "Requirement already satisfied: orjson~=3.0 in /usr/local/lib/python3.11/dist-packages (from gradio) (3.10.15)\n",
            "Requirement already satisfied: packaging in /usr/local/lib/python3.11/dist-packages (from gradio) (24.2)\n",
            "Requirement already satisfied: pandas<3.0,>=1.0 in /usr/local/lib/python3.11/dist-packages (from gradio) (2.2.2)\n",
            "Requirement already satisfied: pillow<12.0,>=8.0 in /usr/local/lib/python3.11/dist-packages (from gradio) (11.1.0)\n",
            "Requirement already satisfied: pydantic>=2.0 in /usr/local/lib/python3.11/dist-packages (from gradio) (2.10.6)\n",
            "Requirement already satisfied: pydub in /usr/local/lib/python3.11/dist-packages (from gradio) (0.25.1)\n",
            "Requirement already satisfied: python-multipart>=0.0.18 in /usr/local/lib/python3.11/dist-packages (from gradio) (0.0.20)\n",
            "Requirement already satisfied: pyyaml<7.0,>=5.0 in /usr/local/lib/python3.11/dist-packages (from gradio) (6.0.2)\n",
            "Requirement already satisfied: ruff>=0.9.3 in /usr/local/lib/python3.11/dist-packages (from gradio) (0.11.0)\n",
            "Requirement already satisfied: safehttpx<0.2.0,>=0.1.6 in /usr/local/lib/python3.11/dist-packages (from gradio) (0.1.6)\n",
            "Requirement already satisfied: semantic-version~=2.0 in /usr/local/lib/python3.11/dist-packages (from gradio) (2.10.0)\n",
            "Requirement already satisfied: starlette<1.0,>=0.40.0 in /usr/local/lib/python3.11/dist-packages (from gradio) (0.46.1)\n",
            "Requirement already satisfied: tomlkit<0.14.0,>=0.12.0 in /usr/local/lib/python3.11/dist-packages (from gradio) (0.13.2)\n",
            "Requirement already satisfied: typer<1.0,>=0.12 in /usr/local/lib/python3.11/dist-packages (from gradio) (0.15.2)\n",
            "Requirement already satisfied: typing-extensions~=4.0 in /usr/local/lib/python3.11/dist-packages (from gradio) (4.12.2)\n",
            "Requirement already satisfied: uvicorn>=0.14.0 in /usr/local/lib/python3.11/dist-packages (from gradio) (0.34.0)\n",
            "Requirement already satisfied: fsspec in /usr/local/lib/python3.11/dist-packages (from gradio-client==1.8.0->gradio) (2024.10.0)\n",
            "Requirement already satisfied: websockets<16.0,>=10.0 in /usr/local/lib/python3.11/dist-packages (from gradio-client==1.8.0->gradio) (14.2)\n",
            "Requirement already satisfied: audioread>=2.1.9 in /usr/local/lib/python3.11/dist-packages (from librosa) (3.0.1)\n",
            "Requirement already satisfied: scipy>=1.2.0 in /usr/local/lib/python3.11/dist-packages (from librosa) (1.14.1)\n",
            "Requirement already satisfied: scikit-learn>=0.20.0 in /usr/local/lib/python3.11/dist-packages (from librosa) (1.6.1)\n",
            "Requirement already satisfied: decorator>=4.3.0 in /usr/local/lib/python3.11/dist-packages (from librosa) (4.4.2)\n",
            "Requirement already satisfied: numba>=0.51.0 in /usr/local/lib/python3.11/dist-packages (from librosa) (0.60.0)\n",
            "Requirement already satisfied: soundfile>=0.12.1 in /usr/local/lib/python3.11/dist-packages (from librosa) (0.13.1)\n",
            "Requirement already satisfied: pooch>=1.1 in /usr/local/lib/python3.11/dist-packages (from librosa) (1.8.2)\n",
            "Requirement already satisfied: soxr>=0.3.2 in /usr/local/lib/python3.11/dist-packages (from librosa) (0.5.0.post1)\n",
            "Requirement already satisfied: lazy-loader>=0.1 in /usr/local/lib/python3.11/dist-packages (from librosa) (0.4)\n",
            "Requirement already satisfied: msgpack>=1.0 in /usr/local/lib/python3.11/dist-packages (from librosa) (1.1.0)\n",
            "Requirement already satisfied: idna>=2.8 in /usr/local/lib/python3.11/dist-packages (from anyio<5.0,>=3.0->gradio) (3.10)\n",
            "Requirement already satisfied: sniffio>=1.1 in /usr/local/lib/python3.11/dist-packages (from anyio<5.0,>=3.0->gradio) (1.3.1)\n",
            "Requirement already satisfied: certifi in /usr/local/lib/python3.11/dist-packages (from httpx>=0.24.1->gradio) (2025.1.31)\n",
            "Requirement already satisfied: httpcore==1.* in /usr/local/lib/python3.11/dist-packages (from httpx>=0.24.1->gradio) (1.0.7)\n",
            "Requirement already satisfied: h11<0.15,>=0.13 in /usr/local/lib/python3.11/dist-packages (from httpcore==1.*->httpx>=0.24.1->gradio) (0.14.0)\n",
            "Requirement already satisfied: filelock in /usr/local/lib/python3.11/dist-packages (from huggingface-hub>=0.28.1->gradio) (3.17.0)\n",
            "Requirement already satisfied: requests in /usr/local/lib/python3.11/dist-packages (from huggingface-hub>=0.28.1->gradio) (2.32.3)\n",
            "Requirement already satisfied: tqdm>=4.42.1 in /usr/local/lib/python3.11/dist-packages (from huggingface-hub>=0.28.1->gradio) (4.67.1)\n",
            "Requirement already satisfied: llvmlite<0.44,>=0.43.0dev0 in /usr/local/lib/python3.11/dist-packages (from numba>=0.51.0->librosa) (0.43.0)\n",
            "Requirement already satisfied: python-dateutil>=2.8.2 in /usr/local/lib/python3.11/dist-packages (from pandas<3.0,>=1.0->gradio) (2.8.2)\n",
            "Requirement already satisfied: pytz>=2020.1 in /usr/local/lib/python3.11/dist-packages (from pandas<3.0,>=1.0->gradio) (2025.1)\n",
            "Requirement already satisfied: tzdata>=2022.7 in /usr/local/lib/python3.11/dist-packages (from pandas<3.0,>=1.0->gradio) (2025.1)\n",
            "Requirement already satisfied: platformdirs>=2.5.0 in /usr/local/lib/python3.11/dist-packages (from pooch>=1.1->librosa) (4.3.6)\n",
            "Requirement already satisfied: annotated-types>=0.6.0 in /usr/local/lib/python3.11/dist-packages (from pydantic>=2.0->gradio) (0.7.0)\n",
            "Requirement already satisfied: pydantic-core==2.27.2 in /usr/local/lib/python3.11/dist-packages (from pydantic>=2.0->gradio) (2.27.2)\n",
            "Requirement already satisfied: threadpoolctl>=3.1.0 in /usr/local/lib/python3.11/dist-packages (from scikit-learn>=0.20.0->librosa) (3.6.0)\n",
            "Requirement already satisfied: cffi>=1.0 in /usr/local/lib/python3.11/dist-packages (from soundfile>=0.12.1->librosa) (1.17.1)\n",
            "Requirement already satisfied: click>=8.0.0 in /usr/local/lib/python3.11/dist-packages (from typer<1.0,>=0.12->gradio) (8.1.8)\n",
            "Requirement already satisfied: shellingham>=1.3.0 in /usr/local/lib/python3.11/dist-packages (from typer<1.0,>=0.12->gradio) (1.5.4)\n",
            "Requirement already satisfied: rich>=10.11.0 in /usr/local/lib/python3.11/dist-packages (from typer<1.0,>=0.12->gradio) (13.9.4)\n",
            "Requirement already satisfied: pycparser in /usr/local/lib/python3.11/dist-packages (from cffi>=1.0->soundfile>=0.12.1->librosa) (2.22)\n",
            "Requirement already satisfied: six>=1.5 in /usr/local/lib/python3.11/dist-packages (from python-dateutil>=2.8.2->pandas<3.0,>=1.0->gradio) (1.17.0)\n",
            "Requirement already satisfied: charset-normalizer<4,>=2 in /usr/local/lib/python3.11/dist-packages (from requests->huggingface-hub>=0.28.1->gradio) (3.4.1)\n",
            "Requirement already satisfied: urllib3<3,>=1.21.1 in /usr/local/lib/python3.11/dist-packages (from requests->huggingface-hub>=0.28.1->gradio) (2.3.0)\n",
            "Requirement already satisfied: markdown-it-py>=2.2.0 in /usr/local/lib/python3.11/dist-packages (from rich>=10.11.0->typer<1.0,>=0.12->gradio) (3.0.0)\n",
            "Requirement already satisfied: pygments<3.0.0,>=2.13.0 in /usr/local/lib/python3.11/dist-packages (from rich>=10.11.0->typer<1.0,>=0.12->gradio) (2.18.0)\n",
            "Requirement already satisfied: mdurl~=0.1 in /usr/local/lib/python3.11/dist-packages (from markdown-it-py>=2.2.0->rich>=10.11.0->typer<1.0,>=0.12->gradio) (0.1.2)\n",
            "Colab notebook detected. To show errors in colab notebook, set debug=True in launch()\n",
            "* Running on public URL: https://9fe5c770a3bd824fa1.gradio.live\n",
            "\n",
            "This share link expires in 72 hours. For free permanent hosting and GPU upgrades, run `gradio deploy` from the terminal in the working directory to deploy to Hugging Face Spaces (https://huggingface.co/spaces)\n"
          ]
        },
        {
          "output_type": "display_data",
          "data": {
            "text/plain": [
              "<IPython.core.display.HTML object>"
            ],
            "text/html": [
              "<div><iframe src=\"https://9fe5c770a3bd824fa1.gradio.live\" width=\"100%\" height=\"500\" allow=\"autoplay; camera; microphone; clipboard-read; clipboard-write;\" frameborder=\"0\" allowfullscreen></iframe></div>"
            ]
          },
          "metadata": {}
        },
        {
          "output_type": "execute_result",
          "data": {
            "text/plain": []
          },
          "metadata": {},
          "execution_count": 9
        }
      ]
    }
  ]
}